{
 "cells": [
  {
   "cell_type": "code",
   "execution_count": 43,
   "id": "7c8ab7b9-1a95-4a66-b286-b3c5b6a1279d",
   "metadata": {},
   "outputs": [
    {
     "name": "stdout",
     "output_type": "stream",
     "text": [
      "Энтропия H(X): 1.941 бит\n",
      "Средняя условная энтропия H(X|Y): 0.804 бит\n",
      "Среднее количество информации I(Y, X): 1.136 бит\n",
      "Пропускная способность C: 68.176 бит/с\n"
     ]
    }
   ],
   "source": [
    "import numpy as np\n",
    "\n",
    "def entropy(pX):\n",
    "    return -np.sum(pX * np.log2(pX))\n",
    "\n",
    "def Centropy(PX, PBA):\n",
    "    Centropy = 0\n",
    "    for i in range(len(PX)):\n",
    "        for j in range(len(PBA[i])):\n",
    "            p_joint = PX[i] * PBA[i][j]\n",
    "            if p_joint > 0:\n",
    "                Centropy += p_joint * np.log2(PBA[i][j])\n",
    "    return -Centropy\n",
    "\n",
    "# Заданные вероятности P(X) Варинта 13 Гр.1\n",
    "PX = np.array([0.15, 0.25, 0.25, 0.35])\n",
    "\n",
    "# Заданные вероятности P(X) Варинта 13 Гр.2\n",
    "#PX = np.array([0.2, 0.6, 0.05, 0.15])\n",
    "\n",
    "# Заданная условная матрица P(B|A) Варианта 13 Гр.1 и Гр.2\n",
    "PBA = np.array([\n",
    "    [0.7, 0.1, 0.05, 0.15],\n",
    "    [0.05, 0.8, 0.1, 0.05],\n",
    "    [0, 0.1, 0.85, 0.05],\n",
    "    [0, 0, 0.1, 0.9]\n",
    "])\n",
    "\n",
    "# Заданная скорость передачи символов (V символов/с) Для варианта 13 Гр.1 и Гр.2\n",
    "V = 60\n",
    "\n",
    "# Шаг 1: Рассчитать энтропию H(X)\n",
    "HX = entropy(PX)\n",
    "\n",
    "# Шаг 2: Рассчитать условную энтропию H(X|Y)\n",
    "HXY = Centropy(PX, PBA)\n",
    "\n",
    "# Шаг 3: Рассчитать взаимную информацию I(Y, X)\n",
    "IYX = HX - HXY\n",
    "\n",
    "# Шаг 4: Рассчитать пропускную способность канала C\n",
    "C = V * IYX\n",
    "\n",
    "print(f\"Энтропия H(X): {HX:.3f} бит\")\n",
    "print(f\"Средняя условная энтропия H(X|Y): {HXY:.3f} бит\")\n",
    "print(f\"Среднее количество информации I(Y, X): {IYX:.3f} бит\")\n",
    "print(f\"Пропускная способность C: {C:.3f} бит/с\")"
   ]
  },
  {
   "cell_type": "code",
   "execution_count": 41,
   "id": "0afc506d-6419-4d4c-b56a-dd5816adab8b",
   "metadata": {},
   "outputs": [
    {
     "name": "stdout",
     "output_type": "stream",
     "text": [
      "Энтропия H(X): 1.782 бит\n",
      "Величина потока информации I: 178.223 бит/с\n",
      "Скорость передачи информации C: 1.522 бит/с\n"
     ]
    }
   ],
   "source": [
    "# hannel capacity C = H(B) - H(B|A).\n",
    "def channel_capacity(p_a_given_b, p_b):\n",
    "    H_B = entropy(p_b)\n",
    "    p_a = np.sum(p_a_given_b * p_b.reshape(-1, 1), axis=0)  # Расчет p(A)\n",
    "    H_B_given_A = Centropy(p_a, p_a_given_b)\n",
    "    return H_B - H_B_given_A\n",
    "\n",
    "# Заданные вероятности P(X) Варинта 14 Гр.1\n",
    "p_B = np.array([0.3, 0.15, 0.45, 0.1])\n",
    "\n",
    "# Заданные вероятности P(X) Варинта 14 Гр.2\n",
    "#p_B = np.array([0.2, 0.6, 0.05, 0.15])\n",
    "\n",
    "# Частота появления символов (симв./с) Вариант 14\n",
    "V = 100\n",
    "\n",
    "# Заданная условная матрица P(B|A) Варианта 14 Гр.1 и Гр.2\n",
    "p_A_given_B = np.array([[0.97, 0.02, 0.01, 0.0],\n",
    "                         [0.03, 0.95, 0.02, 0],\n",
    "                         [0.0, 0.02, 0.96, 0.02],\n",
    "                       [0, 0.01, 0.01, 0.98]])\n",
    "\n",
    "# Вычисления\n",
    "H_B = entropy(p_B)\n",
    "\n",
    "information_flow = H_B * V\n",
    "\n",
    "channel_capacity = channel_capacity(p_A_given_B, p_B)\n",
    "\n",
    "# Результаты\n",
    "print(f\"Энтропия H(X): {H_B:.3f} бит\")\n",
    "print(f\"Величина потока информации I: {information_flow:.3f} бит/с\")\n",
    "print(f\"Скорость передачи информации C: {channel_capacity:.3f} бит/с\")"
   ]
  },
  {
   "cell_type": "code",
   "execution_count": null,
   "id": "95e37939-c6cf-4cc5-ac46-e39e326674c5",
   "metadata": {},
   "outputs": [],
   "source": []
  }
 ],
 "metadata": {
  "kernelspec": {
   "display_name": "Python 3 (ipykernel)",
   "language": "python",
   "name": "python3"
  },
  "language_info": {
   "codemirror_mode": {
    "name": "ipython",
    "version": 3
   },
   "file_extension": ".py",
   "mimetype": "text/x-python",
   "name": "python",
   "nbconvert_exporter": "python",
   "pygments_lexer": "ipython3",
   "version": "3.12.3"
  }
 },
 "nbformat": 4,
 "nbformat_minor": 5
}
